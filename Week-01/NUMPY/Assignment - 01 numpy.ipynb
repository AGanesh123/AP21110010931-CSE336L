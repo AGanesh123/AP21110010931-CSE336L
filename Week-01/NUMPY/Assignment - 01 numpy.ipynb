{
 "cells": [
  {
   "cell_type": "code",
   "execution_count": 1,
   "id": "d6322b66",
   "metadata": {},
   "outputs": [
    {
     "name": "stdout",
     "output_type": "stream",
     "text": [
      "4\n",
      "10\n",
      "18\n",
      "<class 'list'>\n",
      "[ 4 10 18]\n",
      "<class 'numpy.ndarray'>\n"
     ]
    }
   ],
   "source": [
    "import numpy as np\n",
    "arr1=np.array([1,2,3])\n",
    "arr2=np.array([4,5,6])\n",
    "\n",
    "arr3=[]\n",
    "for i in range(len(arr1)):\n",
    "    print(arr1[i]*arr2[i])\n",
    "#Printing the multipled array elements\n",
    "    arr3.append(arr1[i]*arr2[i])\n",
    "    \n",
    "print(type(arr3))\n",
    "\n",
    "arr4=np.array(arr3)\n",
    "print(arr4)\n",
    "print(type(arr4))\n",
    "    "
   ]
  },
  {
   "cell_type": "code",
   "execution_count": 2,
   "id": "7899ba8d",
   "metadata": {},
   "outputs": [
    {
     "name": "stdout",
     "output_type": "stream",
     "text": [
      " array with missing values:\n",
      "[[  3. 332.  nan   1.]\n",
      " [810. 712.  nan   9.]]\n",
      "array:\n",
      "[[False False  True False]\n",
      " [False False  True False]]\n"
     ]
    }
   ],
   "source": [
    "import numpy as np\n",
    "nums = np.array([[3, 332, np.nan, 1],\n",
    "                 [810, 712,np.nan, 9]])\n",
    "\n",
    "\n",
    "print(\" array with missing values:\")\n",
    "print(nums)\n",
    "\n",
    "\n",
    "print(\"array:\")\n",
    "print(np.isnan(nums))"
   ]
  },
  {
   "cell_type": "code",
   "execution_count": 3,
   "id": "25b14fde",
   "metadata": {},
   "outputs": [
    {
     "name": "stdout",
     "output_type": "stream",
     "text": [
      "<class 'numpy.ndarray'>\n",
      "<class 'numpy.ndarray'>\n",
      "[ True  True  True False]\n"
     ]
    }
   ],
   "source": [
    "import numpy as np\n",
    "\n",
    "arr1= np.array([1,22,44,20])\n",
    "\n",
    "arr2=np.array([[1,22,44,22]])\n",
    "\n",
    "print(type(arr1))\n",
    "print(type(arr2))\n",
    "\n",
    "arr4=np.isin(arr1, arr2)\n",
    "print(arr4)"
   ]
  },
  {
   "cell_type": "code",
   "execution_count": 4,
   "id": "9b25192a",
   "metadata": {},
   "outputs": [],
   "source": [
    "import numpy as np\n",
    "arr1=[1,2,34,44,33]\n",
    "arr2=np.array(arr1)\n",
    "\n",
    "arr3=np.savetxt(\"numpyarray.txt\",arr2)"
   ]
  },
  {
   "cell_type": "code",
   "execution_count": 5,
   "id": "0c9a114b",
   "metadata": {},
   "outputs": [
    {
     "name": "stdout",
     "output_type": "stream",
     "text": [
      "[ 0.   2.5  5.   7.5 10.  12.5 15.  17.5 20.  22.5 25.  27.5]\n",
      "<class 'numpy.ndarray'>\n",
      "[ 0.   6.5 13.  19.5 26. ]\n",
      "<class 'numpy.ndarray'>\n"
     ]
    }
   ],
   "source": [
    "import numpy as np\n",
    "\"\"\"Q4 Write a NumPy program to Create a 1-D array of 30 evenly spaced elements between\n",
    "2.5. and 6.5, inclusive.\"\"\"\n",
    "\n",
    "#arange function is similar to range function\n",
    "\n",
    "arr4=np.arange(0,30,2.5)\n",
    "print(arr4)\n",
    "print(type(arr4))\n",
    "\n",
    "arr5=np.arange(0,30,6.5)\n",
    "print(arr5)\n",
    "print(type(arr5))\n"
   ]
  },
  {
   "cell_type": "code",
   "execution_count": null,
   "id": "f8abc10e",
   "metadata": {},
   "outputs": [],
   "source": []
  }
 ],
 "metadata": {
  "kernelspec": {
   "display_name": "Python 3 (ipykernel)",
   "language": "python",
   "name": "python3"
  },
  "language_info": {
   "codemirror_mode": {
    "name": "ipython",
    "version": 3
   },
   "file_extension": ".py",
   "mimetype": "text/x-python",
   "name": "python",
   "nbconvert_exporter": "python",
   "pygments_lexer": "ipython3",
   "version": "3.7.5"
  }
 },
 "nbformat": 4,
 "nbformat_minor": 5
}
